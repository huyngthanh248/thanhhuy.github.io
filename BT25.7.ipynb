{
 "cells": [
  {
   "cell_type": "code",
   "execution_count": null,
   "id": "99c63fa5",
   "metadata": {},
   "outputs": [],
   "source": [
    "name = input('Nhập họ tên:')\n",
    "name = name.lower().strip().split()\n",
    "\n",
    "name1 =''\n",
    "for n in name : new_name += n[0].upper() +n[1:] +' '\n",
    "print(name1.strip())"
   ]
  },
  {
   "cell_type": "code",
   "execution_count": 1,
   "id": "1c8718bf",
   "metadata": {},
   "outputs": [
    {
     "name": "stdout",
     "output_type": "stream",
     "text": [
      "Nhập chuỗi:Huy24081999\n",
      "Tổng sô chẵn là: 14\n",
      "Tổng số lẻ là: 28\n"
     ]
    }
   ],
   "source": [
    "text = input('Nhập chuỗi:')\n",
    "\n",
    "so_le = 0\n",
    "so_le += text.count('1')*1\n",
    "so_le += text.count('3')*3\n",
    "so_le += text.count('5')*5\n",
    "so_le += text.count('7')*7\n",
    "so_le += text.count('9')*9\n",
    "\n",
    "so_chan = 0\n",
    "so_chan += text.count('2')*2\n",
    "so_chan += text.count('4')*4\n",
    "so_chan += text.count('6')*6\n",
    "so_chan += text.count('8')*8\n",
    "\n",
    "print('Tổng sô chẵn là:',so_chan)\n",
    "print('Tổng số lẻ là:',so_le)"
   ]
  }
 ],
 "metadata": {
  "kernelspec": {
   "display_name": "Python 3 (ipykernel)",
   "language": "python",
   "name": "python3"
  },
  "language_info": {
   "codemirror_mode": {
    "name": "ipython",
    "version": 3
   },
   "file_extension": ".py",
   "mimetype": "text/x-python",
   "name": "python",
   "nbconvert_exporter": "python",
   "pygments_lexer": "ipython3",
   "version": "3.10.4"
  }
 },
 "nbformat": 4,
 "nbformat_minor": 5
}
