{
 "cells": [
  {
   "cell_type": "code",
   "execution_count": null,
   "id": "55d918be",
   "metadata": {},
   "outputs": [
    {
     "name": "stdout",
     "output_type": "stream",
     "text": [
      "Nhập Tọa độ x của điểm A= 100\n",
      "Nhập Tọa độ y của điểm A= 100\n",
      "Nhập Tọa độ x của điểm B= 0\n",
      "Nhập Tọa độ y của điểm B= 0\n",
      "Nhập Tọa độ x của điểm C= -100\n",
      "Nhập Tọa độ y của điểm C= 200\n",
      "Nhập Tọa độ x của điểm D= -200\n",
      "Nhập Tọa độ x của điểm D= 100\n",
      "Tứ giác lõm:  False\n",
      "Màu: green\n"
     ]
    }
   ],
   "source": [
    "\n",
    "xA=int(input('Nhập Tọa độ x của điểm A= '))\n",
    "yA=int(input('Nhập Tọa độ y của điểm A= '))\n",
    "xB=int(input('Nhập Tọa độ x của điểm B= '))\n",
    "yB=int(input('Nhập Tọa độ y của điểm B= '))\n",
    "xC=int(input('Nhập Tọa độ x của điểm C= '))\n",
    "yC=int(input('Nhập Tọa độ y của điểm C= '))\n",
    "xD=int(input('Nhập Tọa độ x của điểm D= '))\n",
    "yD=int(input('Nhập Tọa độ x của điểm D= '))\n",
    "\n",
    "import math \n",
    "AB=math.sqrt((xB-xA)**2+(yB-yA)**2)\n",
    "BC=math.sqrt((xC-xB)**2+(yC-yB)**2)\n",
    "CD=math.sqrt((xD-xC)**2+(yD-yC)**2)\n",
    "DA=math.sqrt((xA-xD)**2+(yA-yD)**2)\n",
    "AC=math.sqrt((xC-xA)**2+(yC-yA)**2)\n",
    "BD=math.sqrt((xD-xB)**2+(yD-yB)**2)\n",
    "\n",
    "cosA=(AB**2+DA**2-BD**2)/(2*AB*DA)\n",
    "cosB=(AB**2+BC**2-AC**2)/(2*AB*BC)\n",
    "cosC=(BC**2+CD**2-BD**2)/(2*BC*CD)\n",
    "cosD=(DA**2+CD**2-AC**2)/(2*DA*CD)\n",
    "\n",
    "gA = math.degrees(math.acos(cosA))\n",
    "gB = math.degrees(math.acos(cosB))\n",
    "gC = math.degrees(math.acos(cosC))\n",
    "gD = math.degrees(math.acos(cosD))\n",
    "\n",
    "tugiaclom= (gA > 180) or (gB > 180) or (gC > 180) or (gD > 180)\n",
    "print('Tứ giác lõm: ', tugiaclom)\n",
    "\n",
    "color=input('Màu: ')\n",
    "import turtle \n",
    "t=turtle.Turtle()\n",
    "t.shape()\n",
    "t.pensize(4)\n",
    "t.hideturtle()\n",
    "t.fillcolor(\"red\")\n",
    "t.penup()\n",
    "t.goto(xA,yA)\n",
    "t.pendown()\n",
    "t.goto(xB,yB)\n",
    "t.goto(xC,yC)\n",
    "t.goto(xD,yD)\n",
    "t.goto(xA,yA)\n",
    "\n",
    "turtle.done()"
   ]
  },
  {
   "cell_type": "code",
   "execution_count": null,
   "id": "20ee81c2",
   "metadata": {},
   "outputs": [],
   "source": []
  }
 ],
 "metadata": {
  "kernelspec": {
   "display_name": "Python 3 (ipykernel)",
   "language": "python",
   "name": "python3"
  },
  "language_info": {
   "codemirror_mode": {
    "name": "ipython",
    "version": 3
   },
   "file_extension": ".py",
   "mimetype": "text/x-python",
   "name": "python",
   "nbconvert_exporter": "python",
   "pygments_lexer": "ipython3",
   "version": "3.10.4"
  }
 },
 "nbformat": 4,
 "nbformat_minor": 5
}
